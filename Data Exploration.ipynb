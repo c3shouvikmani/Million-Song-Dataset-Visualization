{
 "cells": [
  {
   "cell_type": "code",
   "execution_count": 3,
   "metadata": {
    "collapsed": true
   },
   "outputs": [],
   "source": [
    "import pandas as pd\n",
    "import numpy as np\n",
    "import sqlite3\n",
    "conn = sqlite3.connect(\"MillionSongSubset/AdditionalFiles/subset_track_metadata.db\")\n",
    "cursor = conn.cursor()"
   ]
  },
  {
   "cell_type": "code",
   "execution_count": 22,
   "metadata": {
    "collapsed": false
   },
   "outputs": [
    {
     "name": "stdout",
     "output_type": "stream",
     "text": [
      "[(u'songs',)]\n"
     ]
    }
   ],
   "source": [
    "# See tables in database\n",
    "cursor.execute(\"SELECT name FROM sqlite_master WHERE type='table';\")\n",
    "print(cursor.fetchall())"
   ]
  },
  {
   "cell_type": "code",
   "execution_count": 4,
   "metadata": {
    "collapsed": false
   },
   "outputs": [
    {
     "data": {
      "text/html": [
       "<div>\n",
       "<table border=\"1\" class=\"dataframe\">\n",
       "  <thead>\n",
       "    <tr style=\"text-align: right;\">\n",
       "      <th></th>\n",
       "      <th>track_id</th>\n",
       "      <th>title</th>\n",
       "      <th>song_id</th>\n",
       "      <th>release</th>\n",
       "      <th>artist_id</th>\n",
       "      <th>artist_mbid</th>\n",
       "      <th>artist_name</th>\n",
       "      <th>duration</th>\n",
       "      <th>artist_familiarity</th>\n",
       "      <th>artist_hotttnesss</th>\n",
       "      <th>year</th>\n",
       "    </tr>\n",
       "  </thead>\n",
       "  <tbody>\n",
       "    <tr>\n",
       "      <th>0</th>\n",
       "      <td>TRACCVZ128F4291A8A</td>\n",
       "      <td>Deep Sea Creature</td>\n",
       "      <td>SOVLGJY12A8C13FBED</td>\n",
       "      <td>Call of the Mastodon</td>\n",
       "      <td>ARMQHX71187B9890D3</td>\n",
       "      <td>bc5e2ad6-0a4a-4d90-b911-e9a7e6861727</td>\n",
       "      <td>Mastodon</td>\n",
       "      <td>280.21506</td>\n",
       "      <td>0.780462</td>\n",
       "      <td>0.574275</td>\n",
       "      <td>2001</td>\n",
       "    </tr>\n",
       "    <tr>\n",
       "      <th>1</th>\n",
       "      <td>TRACCMH128F428E4CD</td>\n",
       "      <td>No Quieras Marcharte</td>\n",
       "      <td>SOGDQZK12A8C13F37C</td>\n",
       "      <td>Adelante</td>\n",
       "      <td>AR2PT4M1187FB55B1A</td>\n",
       "      <td>d54ea4a6-0b9c-4e47-bed0-289ae9ff4037</td>\n",
       "      <td>Los Chichos</td>\n",
       "      <td>191.68608</td>\n",
       "      <td>0.561590</td>\n",
       "      <td>0.420570</td>\n",
       "      <td>1984</td>\n",
       "    </tr>\n",
       "    <tr>\n",
       "      <th>2</th>\n",
       "      <td>TRACCSW128F148C7C3</td>\n",
       "      <td>If I...</td>\n",
       "      <td>SODMVJR12A6D4F985D</td>\n",
       "      <td>Ill Na Na</td>\n",
       "      <td>ARDI88R1187B98DAB2</td>\n",
       "      <td>fd87374e-ffde-4d36-89a8-8a073f795666</td>\n",
       "      <td>Foxy Brown</td>\n",
       "      <td>222.92853</td>\n",
       "      <td>0.687687</td>\n",
       "      <td>0.406686</td>\n",
       "      <td>0</td>\n",
       "    </tr>\n",
       "    <tr>\n",
       "      <th>3</th>\n",
       "      <td>TRACCXJ128F428F0CF</td>\n",
       "      <td>Werther - Lyric Drama in four Acts/Act I/Alors...</td>\n",
       "      <td>SOIWBDR12A8C13A4AC</td>\n",
       "      <td>Massenet: Werther</td>\n",
       "      <td>ARUKJUP12086C14589</td>\n",
       "      <td>8a5f2736-bcde-4a2e-8d50-72631d66a7ef</td>\n",
       "      <td>Ramón Vargas;Vladimir Jurowski</td>\n",
       "      <td>278.38649</td>\n",
       "      <td>0.391741</td>\n",
       "      <td>0.291265</td>\n",
       "      <td>0</td>\n",
       "    </tr>\n",
       "    <tr>\n",
       "      <th>4</th>\n",
       "      <td>TRACCVS12903D014F8</td>\n",
       "      <td>Ad Te Clamamus Exsvles Mortva Liberi</td>\n",
       "      <td>SOHCCIA12AC907577F</td>\n",
       "      <td>Pentagrammaton</td>\n",
       "      <td>ARZEWUR1187FB53DC8</td>\n",
       "      <td>0be59867-0da4-4e45-9b64-728cdf25487c</td>\n",
       "      <td>Enthroned</td>\n",
       "      <td>89.15546</td>\n",
       "      <td>0.593416</td>\n",
       "      <td>0.395710</td>\n",
       "      <td>2010</td>\n",
       "    </tr>\n",
       "  </tbody>\n",
       "</table>\n",
       "</div>"
      ],
      "text/plain": [
       "             track_id                                              title  \\\n",
       "0  TRACCVZ128F4291A8A                                  Deep Sea Creature   \n",
       "1  TRACCMH128F428E4CD                               No Quieras Marcharte   \n",
       "2  TRACCSW128F148C7C3                                            If I...   \n",
       "3  TRACCXJ128F428F0CF  Werther - Lyric Drama in four Acts/Act I/Alors...   \n",
       "4  TRACCVS12903D014F8               Ad Te Clamamus Exsvles Mortva Liberi   \n",
       "\n",
       "              song_id               release           artist_id  \\\n",
       "0  SOVLGJY12A8C13FBED  Call of the Mastodon  ARMQHX71187B9890D3   \n",
       "1  SOGDQZK12A8C13F37C              Adelante  AR2PT4M1187FB55B1A   \n",
       "2  SODMVJR12A6D4F985D             Ill Na Na  ARDI88R1187B98DAB2   \n",
       "3  SOIWBDR12A8C13A4AC     Massenet: Werther  ARUKJUP12086C14589   \n",
       "4  SOHCCIA12AC907577F        Pentagrammaton  ARZEWUR1187FB53DC8   \n",
       "\n",
       "                            artist_mbid                     artist_name  \\\n",
       "0  bc5e2ad6-0a4a-4d90-b911-e9a7e6861727                        Mastodon   \n",
       "1  d54ea4a6-0b9c-4e47-bed0-289ae9ff4037                     Los Chichos   \n",
       "2  fd87374e-ffde-4d36-89a8-8a073f795666                      Foxy Brown   \n",
       "3  8a5f2736-bcde-4a2e-8d50-72631d66a7ef  Ramón Vargas;Vladimir Jurowski   \n",
       "4  0be59867-0da4-4e45-9b64-728cdf25487c                       Enthroned   \n",
       "\n",
       "    duration  artist_familiarity  artist_hotttnesss  year  \n",
       "0  280.21506            0.780462           0.574275  2001  \n",
       "1  191.68608            0.561590           0.420570  1984  \n",
       "2  222.92853            0.687687           0.406686     0  \n",
       "3  278.38649            0.391741           0.291265     0  \n",
       "4   89.15546            0.593416           0.395710  2010  "
      ]
     },
     "execution_count": 4,
     "metadata": {},
     "output_type": "execute_result"
    }
   ],
   "source": [
    "df = pd.read_sql_query(\"SELECT * FROM songs\", conn)\n",
    "df.head()"
   ]
  }
 ],
 "metadata": {
  "anaconda-cloud": {},
  "kernelspec": {
   "display_name": "Python [Root]",
   "language": "python",
   "name": "Python [Root]"
  },
  "language_info": {
   "codemirror_mode": {
    "name": "ipython",
    "version": 2
   },
   "file_extension": ".py",
   "mimetype": "text/x-python",
   "name": "python",
   "nbconvert_exporter": "python",
   "pygments_lexer": "ipython2",
   "version": "2.7.12"
  }
 },
 "nbformat": 4,
 "nbformat_minor": 0
}
