{
 "cells": [
  {
   "cell_type": "markdown",
   "metadata": {},
   "source": [
    "## Data quality Analysis"
   ]
  },
  {
   "cell_type": "markdown",
   "metadata": {},
   "source": [
    "### About the Dataset"
   ]
  },
  {
   "cell_type": "markdown",
   "metadata": {},
   "source": [
    "The dataset used is from the Million Song Dataset that is publicly available by Columbia University's LAB ROSA. It contains a collection of audio features and metadata for a million contemporary popular music tracks. The dataset contains information such as audio features, lyrics (represented as a bag of words), song-level tags, artist-level tags, user data, and genre tags.\n",
    "\n",
    "The complete dataset is 280GB. We decided to use a subset of the data that contained only the information we need for our analysis. Specifically, we needed the following information from each song:\n",
    "\n",
    "- Track ID (Unique song ID)\n",
    "- Genres tags associated with that song\n",
    "- Year the song was released\n",
    "- Acoustic information for the song\n",
    "\n",
    "Extracting the data was a bigger challenge than we expected, as we had to combine information that was spread out throughout several datasets and combine them into one. Specifically, we used the followings datasets to extract the information:\n",
    "\n",
    "- Last.fm Tag SQLite DB(https://labrosa.ee.columbia.edu/millionsong/lastfm): Track_id, Genre tags\n",
    "- List of songs with Year (https://labrosa.ee.columbia.edu/millionsong/sites/default/files/AdditionalFiles/tracks_per_year.txt) : Track_id, Year\n",
    "- Tagtraum Genre annotations (http://www.tagtraum.com/msd_genre_datasets.html): Track_id, Acoustic Information\n",
    "\n",
    "Because not every song had genre information and year, our shared song analysis was limited to the 362154 songs that had both genre and year information.\n",
    "\n",
    "For the acoustic analysis, we used only the songs that had all of genre, year, and acoustic information; which totaled only 30036 songs. Since we are taking the average acoustic information for every genre, every year, this provided only a representation of the acoustic information for a genre in a given year. In some years, some genres didn't have any (or very few) songs with acoustic information; therefore the analysis was done to provide an overview and identify possible trends in the acoustics of genres over time."
   ]
  },
  {
   "cell_type": "markdown",
   "metadata": {},
   "source": [
    "### The 4 C's of Data"
   ]
  },
  {
   "cell_type": "markdown",
   "metadata": {},
   "source": [
    "#### Completeness"
   ]
  },
  {
   "cell_type": "markdown",
   "metadata": {},
   "source": [
    "The data was not complete. Out of the million songs in the whole dataset, only 515576 had yearly information and, out of these, only 362154 had Genre tags. Even though we couldn't use roughly 2/3 of the data, 362k songs is still representative enough to make a statistically significant analysis and therefore it didn't affect in great measure the quality of our shared songs analysis.\n",
    "\n",
    "The data was skewed towards more recent songs, with very few number of songs before 1950. For this reason, we decided to do our analysis from 1954 to 2010, and split the analysis by decades to be able to compare relatively (instead of absolutely) how the interaction between genres have changed over time."
   ]
  },
  {
   "cell_type": "markdown",
   "metadata": {},
   "source": [
    "#### Coherenceness"
   ]
  },
  {
   "cell_type": "markdown",
   "metadata": {},
   "source": [
    "The tags on the genres were not coherent, as songs that should have belonged to the same genre had different tags. An example of what we experienced was:\n",
    "- Rock\n",
    "- Rock and Roll\n",
    "- Rock n Roll\n",
    "- Classic Rock\n",
    "\n",
    "These are all the same genre but were represented differently. For this reason, in our analysis, we used Regular Expressions to obtain the tags of the songs, then grouped them together into a single tag. We identified 15 main different genres that, after being grouped, accounted for 358201 songs (~99% of the dataset).\n",
    "\n",
    "After grouping them together, the coherence was no longer an issue for our analysis."
   ]
  },
  {
   "cell_type": "markdown",
   "metadata": {},
   "source": [
    "#### Correctness"
   ]
  },
  {
   "cell_type": "markdown",
   "metadata": {},
   "source": [
    "The genre tags on the Last.fm database were provided by users of the page and therefore may not be correct. There are many genres that appear only once, but are ignored when selecting the genres using Regular Expressions.\n",
    "\n",
    "Because we are comparing a very large amount of songs, the effect of having a small number of misclassifications is not minimal on the overall analysis. Therefore, a song that was labeled erroniously does not affect the conclusions that we reached in our analysis."
   ]
  },
  {
   "cell_type": "markdown",
   "metadata": {},
   "source": [
    "#### Accountability"
   ]
  },
  {
   "cell_type": "markdown",
   "metadata": {},
   "source": [
    "The data was generated by Columbia University's Lab ROSA using several services like Echo Nest, Last FM, musiXmatch, etc. The data is accountable as we know the origin of every feature.\n",
    "\n",
    "The only part where we have no accountability is in the genre tags for the songs but, as one song has one or many tags and we selected the top 15 genres, the effect of this does not affect the analysis.\n",
    "\n",
    "Therefore, we can concluded that the data is accountable and can be used for our analysis."
   ]
  },
  {
   "cell_type": "code",
   "execution_count": null,
   "metadata": {
    "collapsed": true
   },
   "outputs": [],
   "source": []
  }
 ],
 "metadata": {
  "kernelspec": {
   "display_name": "Python [default]",
   "language": "python",
   "name": "python2"
  },
  "language_info": {
   "codemirror_mode": {
    "name": "ipython",
    "version": 2
   },
   "file_extension": ".py",
   "mimetype": "text/x-python",
   "name": "python",
   "nbconvert_exporter": "python",
   "pygments_lexer": "ipython2",
   "version": "2.7.12"
  }
 },
 "nbformat": 4,
 "nbformat_minor": 1
}
