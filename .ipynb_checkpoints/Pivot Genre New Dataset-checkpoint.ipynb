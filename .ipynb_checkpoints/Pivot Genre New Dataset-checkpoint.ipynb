{
 "cells": [
  {
   "cell_type": "code",
   "execution_count": 1,
   "metadata": {
    "collapsed": true
   },
   "outputs": [],
   "source": [
    "import pandas as pd\n",
    "import sqlite3"
   ]
  },
  {
   "cell_type": "code",
   "execution_count": 2,
   "metadata": {
    "collapsed": true
   },
   "outputs": [],
   "source": [
    "#Read dataset\n",
    "tid_genre = pd.read_table('msd_tagtraum_cd1.cls', sep = '\\t', names = ['tid','majority_genre','minority_genre'])"
   ]
  },
  {
   "cell_type": "code",
   "execution_count": 5,
   "metadata": {
    "collapsed": true
   },
   "outputs": [],
   "source": [
    "#Add table to database\n",
    "_DBName = '../../MillionSongSubset/lastfm_tags.db'\n",
    "_TableName = u'track_genre_clean'"
   ]
  },
  {
   "cell_type": "code",
   "execution_count": 6,
   "metadata": {
    "collapsed": true
   },
   "outputs": [],
   "source": [
    "#Function taken from http://yznotes.com/write-pandas-dataframe-to-sqlite/\n",
    "def df2sqlite(dataframe, db_name, tbl_name):\n",
    "    conn=sqlite3.connect(db_name)\n",
    "    conn.text_factory = lambda x: unicode(x, \"utf-8\", \"ignore\")    \n",
    "    cur = conn.cursor()                                 \n",
    " \n",
    "    wildcards = ','.join(['?'] * len(dataframe.columns))    \n",
    "    data = [tuple(x) for x in dataframe.values]\n",
    "\n",
    "    cur.execute(\"drop table if exists %s\" % tbl_name)\n",
    " \n",
    "    col_str = '\"' + '\",\"'.join(dataframe.columns) + '\"'\n",
    "    cur.execute(\"create table %s (%s)\" % (tbl_name, col_str))\n",
    " \n",
    "    cur.executemany(\"insert into %s values(%s)\" % (tbl_name, wildcards), data)\n",
    " \n",
    "    conn.commit()\n",
    "    conn.close()"
   ]
  },
  {
   "cell_type": "code",
   "execution_count": 8,
   "metadata": {
    "collapsed": false
   },
   "outputs": [],
   "source": [
    "df2sqlite(tid_genre, db_name = _DBName, tbl_name = _TableName)"
   ]
  },
  {
   "cell_type": "code",
   "execution_count": 9,
   "metadata": {
    "collapsed": false
   },
   "outputs": [
    {
     "name": "stdout",
     "output_type": "stream",
     "text": [
      "[(u'tags',), (u'tids',), (u'tid_tag',), (u'track_year',), (u'track_acoustic',), (u'track_genre_clean',)]\n"
     ]
    }
   ],
   "source": [
    "# See the tables\n",
    "conn=sqlite3.connect(_DBName)\n",
    "cursor = conn.cursor()\n",
    "cursor.execute(\"SELECT name FROM sqlite_master WHERE type='table';\")\n",
    "print(cursor.fetchall())"
   ]
  },
  {
   "cell_type": "code",
   "execution_count": 12,
   "metadata": {
    "collapsed": false
   },
   "outputs": [
    {
     "data": {
      "text/html": [
       "<div>\n",
       "<table border=\"1\" class=\"dataframe\">\n",
       "  <thead>\n",
       "    <tr style=\"text-align: right;\">\n",
       "      <th></th>\n",
       "      <th>majority_genre</th>\n",
       "    </tr>\n",
       "  </thead>\n",
       "  <tbody>\n",
       "    <tr>\n",
       "      <th>0</th>\n",
       "      <td>Blues</td>\n",
       "    </tr>\n",
       "    <tr>\n",
       "      <th>1</th>\n",
       "      <td>Country</td>\n",
       "    </tr>\n",
       "    <tr>\n",
       "      <th>2</th>\n",
       "      <td>Electronic</td>\n",
       "    </tr>\n",
       "    <tr>\n",
       "      <th>3</th>\n",
       "      <td>Folk</td>\n",
       "    </tr>\n",
       "    <tr>\n",
       "      <th>4</th>\n",
       "      <td>International</td>\n",
       "    </tr>\n",
       "    <tr>\n",
       "      <th>5</th>\n",
       "      <td>Jazz</td>\n",
       "    </tr>\n",
       "    <tr>\n",
       "      <th>6</th>\n",
       "      <td>Latin</td>\n",
       "    </tr>\n",
       "    <tr>\n",
       "      <th>7</th>\n",
       "      <td>New Age</td>\n",
       "    </tr>\n",
       "    <tr>\n",
       "      <th>8</th>\n",
       "      <td>Pop_Rock</td>\n",
       "    </tr>\n",
       "    <tr>\n",
       "      <th>9</th>\n",
       "      <td>Rap</td>\n",
       "    </tr>\n",
       "    <tr>\n",
       "      <th>10</th>\n",
       "      <td>Reggae</td>\n",
       "    </tr>\n",
       "    <tr>\n",
       "      <th>11</th>\n",
       "      <td>RnB</td>\n",
       "    </tr>\n",
       "    <tr>\n",
       "      <th>12</th>\n",
       "      <td>Vocal</td>\n",
       "    </tr>\n",
       "  </tbody>\n",
       "</table>\n",
       "</div>"
      ],
      "text/plain": [
       "   majority_genre\n",
       "0           Blues\n",
       "1         Country\n",
       "2      Electronic\n",
       "3            Folk\n",
       "4   International\n",
       "5            Jazz\n",
       "6           Latin\n",
       "7         New Age\n",
       "8        Pop_Rock\n",
       "9             Rap\n",
       "10         Reggae\n",
       "11            RnB\n",
       "12          Vocal"
      ]
     },
     "execution_count": 12,
     "metadata": {},
     "output_type": "execute_result"
    }
   ],
   "source": [
    "#View Genres\n",
    "query = \"SELECT DISTINCT majority_genre FROM track_genre_clean ORDER BY majority_genre\"\n",
    "df = pd.read_sql_query(query, conn)\n",
    "df"
   ]
  },
  {
   "cell_type": "code",
   "execution_count": 11,
   "metadata": {
    "collapsed": false
   },
   "outputs": [
    {
     "data": {
      "text/html": [
       "<div>\n",
       "<table border=\"1\" class=\"dataframe\">\n",
       "  <thead>\n",
       "    <tr style=\"text-align: right;\">\n",
       "      <th></th>\n",
       "      <th>COUNT(*)</th>\n",
       "    </tr>\n",
       "  </thead>\n",
       "  <tbody>\n",
       "    <tr>\n",
       "      <th>0</th>\n",
       "      <td>112321</td>\n",
       "    </tr>\n",
       "  </tbody>\n",
       "</table>\n",
       "</div>"
      ],
      "text/plain": [
       "   COUNT(*)\n",
       "0    112321"
      ]
     },
     "execution_count": 11,
     "metadata": {},
     "output_type": "execute_result"
    }
   ],
   "source": [
    "#Number of songs with year\n",
    "query = \"SELECT COUNT(*) FROM track_genre_clean JOIN track_year USING (tid)\"\n",
    "df = pd.read_sql_query(query, conn)\n",
    "df"
   ]
  },
  {
   "cell_type": "code",
   "execution_count": null,
   "metadata": {
    "collapsed": true
   },
   "outputs": [],
   "source": [
    "#Pivot table number of songs Majority-Minority\n",
    "query_pivot = \"SELECT LOWER(majority_genre) AS Genre, \\\n",
    "SUM(CASE LOWER(minority_genre) WHEN 'blues' THEN 1 ELSE 0 END) AS Blues, \\\n",
    "SUM(CASE LOWER(minority_genre) WHEN 'country' THEN 1 ELSE 0 END) AS Country, \\\n",
    "SUM(CASE LOWER(minority_genre) WHEN 'electronic' THEN 1 ELSE 0 END) AS Electronic, \\\n",
    "SUM(CASE LOWER(minority_genre) WHEN 'folk' THEN 1 ELSE 0 END) AS Folk, \\\n",
    "SUM(CASE LOWER(minority_genre) WHEN 'international' THEN 1 ELSE 0 END) AS International, \\\n",
    "SUM(CASE LOWER(minority_genre) WHEN 'jazz' THEN 1 ELSE 0 END) AS Jazz, \\\n",
    "SUM(CASE LOWER(minority_genre) WHEN 'latin' THEN 1 ELSE 0 END) AS Latin, \\\n",
    "SUM(CASE LOWER(minority_genre) WHEN 'new age' THEN 1 ELSE 0 END) AS NewAge, \\\n",
    "SUM(CASE LOWER(minority_genre) WHEN 'pop_rock' THEN 1 ELSE 0 END) AS PopRock, \\\n",
    "SUM(CASE LOWER(minority_genre) WHEN 'rap' THEN 1 ELSE 0 END) AS Rap, \\\n",
    "SUM(CASE LOWER(minority_genre) WHEN 'reggae' THEN 1 ELSE 0 END) AS Reggae, \\\n",
    "SUM(CASE LOWER(minority_genre) WHEN 'rnb' THEN 1 ELSE 0 END) AS RnB, \\\n",
    "SUM(CASE LOWER(minority_genre) WHEN 'vocal' THEN 1 ELSE 0 END) AS Vocal \\\n",
    "FROM ({0}) g JOIN ({0}) a ON(g.tid = a.tid) \\\n",
    "GROUP BY g.Genre ORDER BY Genre;\".format(query_genres)"
   ]
  }
 ],
 "metadata": {
  "anaconda-cloud": {},
  "kernelspec": {
   "display_name": "Python [default]",
   "language": "python",
   "name": "python2"
  },
  "language_info": {
   "codemirror_mode": {
    "name": "ipython",
    "version": 2
   },
   "file_extension": ".py",
   "mimetype": "text/x-python",
   "name": "python",
   "nbconvert_exporter": "python",
   "pygments_lexer": "ipython2",
   "version": "2.7.12"
  }
 },
 "nbformat": 4,
 "nbformat_minor": 1
}
